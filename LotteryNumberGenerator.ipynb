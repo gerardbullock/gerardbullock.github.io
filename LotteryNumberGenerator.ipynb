{
  "nbformat": 4,
  "nbformat_minor": 0,
  "metadata": {
    "colab": {
      "provenance": [],
      "name": "LotteryNumberGenerator.ipynb",
      "authorship_tag": "ABX9TyN8A1lqGKyRAWXJ1Y+Msc36",
      "include_colab_link": true
    },
    "kernelspec": {
      "name": "python3",
      "display_name": "Python 3"
    },
    "language_info": {
      "name": "python"
    }
  },
  "cells": [
    {
      "cell_type": "markdown",
      "metadata": {
        "id": "view-in-github",
        "colab_type": "text"
      },
      "source": [
        "<a href=\"https://colab.research.google.com/github/gerardbullock/gerardbullock.github.io/blob/main/LotteryNumberGenerator.ipynb\" target=\"_parent\"><img src=\"https://colab.research.google.com/assets/colab-badge.svg\" alt=\"Open In Colab\"/></a>"
      ]
    },
    {
      "cell_type": "markdown",
      "source": [
        "# **Lottery Number Generator**"
      ],
      "metadata": {
        "id": "kQ-zhP9XIifv"
      }
    },
    {
      "cell_type": "code",
      "execution_count": 7,
      "metadata": {
        "id": "ZjBL0nYeIXIm",
        "colab": {
          "base_uri": "https://localhost:8080/"
        },
        "outputId": "758ad64d-c732-43e0-8a46-6aa2cbd38011"
      },
      "outputs": [
        {
          "output_type": "stream",
          "name": "stdout",
          "text": [
            "The next winning number is 28!\n",
            "The next winning number is 35!\n",
            "The next winning number is 29!\n",
            "The next winning number is 24!\n",
            "The next winning number is 35!\n",
            "The next winning number is 5!\n",
            "The next winning number is 5!\n"
          ]
        }
      ],
      "source": [
        "import random\n",
        "\n",
        "def lottery():\n",
        "    # this code returns 6 random numbers between 1 and 40\n",
        "    for i in range(6):\n",
        "        yield random.randint(1, 40)\n",
        "\n",
        "    # the code returns a 7th bonus number between 1 and 15\n",
        "    yield random.randint(1, 15)\n",
        "\n",
        "for random_number in lottery():\n",
        "       print(\"The next winning number is %d!\" %(random_number))"
      ]
    },
    {
      "cell_type": "code",
      "source": [],
      "metadata": {
        "id": "BdfzJMqxIuA3"
      },
      "execution_count": null,
      "outputs": []
    }
  ]
}