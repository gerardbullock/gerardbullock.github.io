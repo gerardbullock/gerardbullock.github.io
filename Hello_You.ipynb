{
  "nbformat": 4,
  "nbformat_minor": 0,
  "metadata": {
    "colab": {
      "provenance": [],
      "authorship_tag": "ABX9TyME2eGy30pm1BbpXdhIvxY6",
      "include_colab_link": true
    },
    "kernelspec": {
      "name": "python3",
      "display_name": "Python 3"
    },
    "language_info": {
      "name": "python"
    }
  },
  "cells": [
    {
      "cell_type": "markdown",
      "metadata": {
        "id": "view-in-github",
        "colab_type": "text"
      },
      "source": [
        "<a href=\"https://colab.research.google.com/github/gerardbullock/gerardbullock.github.io/blob/main/Hello_You.ipynb\" target=\"_parent\"><img src=\"https://colab.research.google.com/assets/colab-badge.svg\" alt=\"Open In Colab\"/></a>"
      ]
    },
    {
      "cell_type": "markdown",
      "source": [
        "Hello You Program (INPUTS)"
      ],
      "metadata": {
        "id": "y4Aj7SFdbtGx"
      }
    },
    {
      "cell_type": "code",
      "source": [
        "name=input(\"What is your name? \")\n",
        "age=input(\"What is your age? \")\n",
        "city=input(\"Name of city? \")\n",
        "love=input(\"What do you love to do? \")\n",
        "string = \"Your name is {} and you are {} years old. You live in {} and you love {}\"\n",
        "output = string.format(name,age,city,love)\n",
        "print(output)"
      ],
      "metadata": {
        "id": "-c5WpEAQb0uC"
      },
      "execution_count": null,
      "outputs": []
    }
  ]
}