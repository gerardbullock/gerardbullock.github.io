{
  "nbformat": 4,
  "nbformat_minor": 0,
  "metadata": {
    "colab": {
      "provenance": [],
      "authorship_tag": "ABX9TyMcfX7bSpbMAbrqiecMDLmP",
      "include_colab_link": true
    },
    "kernelspec": {
      "name": "python3",
      "display_name": "Python 3"
    },
    "language_info": {
      "name": "python"
    }
  },
  "cells": [
    {
      "cell_type": "markdown",
      "metadata": {
        "id": "view-in-github",
        "colab_type": "text"
      },
      "source": [
        "<a href=\"https://colab.research.google.com/github/gerardbullock/gerardbullock.github.io/blob/main/Email_Slicer.ipynb\" target=\"_parent\"><img src=\"https://colab.research.google.com/assets/colab-badge.svg\" alt=\"Open In Colab\"/></a>"
      ]
    },
    {
      "cell_type": "code",
      "execution_count": 1,
      "metadata": {
        "colab": {
          "base_uri": "https://localhost:8080/"
        },
        "id": "CRiE1pnxEeaI",
        "outputId": "67040331-dd0a-4249-e6de-86881687d709"
      },
      "outputs": [
        {
          "output_type": "stream",
          "name": "stdout",
          "text": [
            "What is your email address? gerardbullock@ymail.com\n",
            "Your username is gerardbullock and your domain name is ymail.com\n"
          ]
        }
      ],
      "source": [
        "#get user email address\n",
        "email = input(\"What is your email address? \").strip()\n",
        "#slice out user name\n",
        "user=email[:email.index(\"@\")]\n",
        "#slice domain name\n",
        "domain=email[email.index(\"@\") +1:]\n",
        "#format message\n",
        "output=\"Your username is {} and your domain name is {}\".format(user, domain)\n",
        "#display output message\n",
        "print(output)"
      ]
    }
  ]
}